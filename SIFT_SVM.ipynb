{
  "nbformat": 4,
  "nbformat_minor": 0,
  "metadata": {
    "accelerator": "GPU",
    "colab": {
      "name": "SIFT_SVM.ipynb",
      "provenance": [],
      "collapsed_sections": [],
      "mount_file_id": "1IOzXqVtxtzTe_gHtX55Q_d9MUcP-nFGe",
      "authorship_tag": "ABX9TyPx6qss3ObVe0+xOaJ2RlSM",
      "include_colab_link": true
    },
    "kernelspec": {
      "display_name": "Python 3",
      "name": "python3"
    }
  },
  "cells": [
    {
      "cell_type": "markdown",
      "metadata": {
        "id": "view-in-github",
        "colab_type": "text"
      },
      "source": [
        "<a href=\"https://colab.research.google.com/github/shamim237/ML-Handcrafted_Features/blob/main/SIFT_SVM.ipynb\" target=\"_parent\"><img src=\"https://colab.research.google.com/assets/colab-badge.svg\" alt=\"Open In Colab\"/></a>"
      ]
    },
    {
      "cell_type": "code",
      "metadata": {
        "id": "P0eGPBtM27W-"
      },
      "source": [
        "import os \n",
        "import numpy as np\n",
        "import matplotlib.pyplot as plt\n",
        "import cv2\n",
        "import pickle\n",
        "from skimage.feature import hog\n",
        "import random\n",
        "from sklearn.model_selection import train_test_split\n",
        "from sklearn.svm import SVC\n",
        "from sklearn.ensemble import RandomForestClassifier\n",
        "from sklearn.metrics import accuracy_score, recall_score, f1_score, precision_score\n",
        "\n",
        "from sklearn.metrics import f1_score\n",
        "from sklearn.metrics import confusion_matrix"
      ],
      "execution_count": null,
      "outputs": []
    },
    {
      "cell_type": "code",
      "metadata": {
        "id": "UPBGpFHM3Oyk"
      },
      "source": [
        "# img_dir = '/content/drive/MyDrive/digit_dataset'"
      ],
      "execution_count": null,
      "outputs": []
    },
    {
      "cell_type": "code",
      "metadata": {
        "id": "aUI2GQ0s3QGb"
      },
      "source": [
        "#categories = ['0', '1', '2', '3', '4', '5', '6', '7', '8', '9']"
      ],
      "execution_count": null,
      "outputs": []
    },
    {
      "cell_type": "code",
      "metadata": {
        "id": "eGjFv6ID3QJf"
      },
      "source": [
        "# data = []\n",
        "\n",
        "# for category in categories:\n",
        "#   path = os.path.join(img_dir, category)\n",
        "#   label = categories.index(category)\n",
        "\n",
        "#   for img in os.listdir(path):\n",
        "#     img_path = os.path.join(path, img)\n",
        "#     img_data = cv2.imread(img_path)\n",
        "#     #resized_img = cv2.resize(img_data, (128, 128))\n",
        "#     gray= cv2.cvtColor(img_data,cv2.COLOR_BGR2GRAY)\n",
        "#     # create SIFT feature extractor\n",
        "#     sift = cv2.xfeatures2d.SIFT_create()\n",
        "#     # detect features from the image\n",
        "#     keypoints, descriptors = sift.detectAndCompute(img_data, None)\n",
        "#     # draw the detected key points\n",
        "#     sift_image = cv2.drawKeypoints(gray, keypoints, img_data)\n",
        "#     image = np.array(sift_image).flatten()\n",
        "#     data.append([image, label])"
      ],
      "execution_count": null,
      "outputs": []
    },
    {
      "cell_type": "code",
      "metadata": {
        "id": "onRSmOF13QMZ"
      },
      "source": [
        "#print(len(data))"
      ],
      "execution_count": null,
      "outputs": []
    },
    {
      "cell_type": "code",
      "metadata": {
        "id": "oLiHoOMG3QOU"
      },
      "source": [
        "# pick_in = open('/content/drive/MyDrive/Colab Notebooks/sift_sign_data.pickle', 'wb')\n",
        "# pickle.dump(data, pick_in)\n",
        "# pick_in.close()"
      ],
      "execution_count": null,
      "outputs": []
    },
    {
      "cell_type": "code",
      "metadata": {
        "id": "NGrDPAkt3QQh"
      },
      "source": [
        "pick_in = open('/content/drive/MyDrive/Colab Notebooks/sift_sign_data.pickle', 'rb')\n",
        "data = pickle.load(pick_in)\n",
        "pick_in.close()"
      ],
      "execution_count": null,
      "outputs": []
    },
    {
      "cell_type": "code",
      "metadata": {
        "id": "xeMEP1Ti3QSs"
      },
      "source": [
        "random.shuffle(data)\n",
        "features = []\n",
        "labels = []"
      ],
      "execution_count": null,
      "outputs": []
    },
    {
      "cell_type": "code",
      "metadata": {
        "id": "-8lCKavk3QVO"
      },
      "source": [
        "for feature,label in data:\n",
        "    features.append(feature)\n",
        "    labels.append(label)"
      ],
      "execution_count": null,
      "outputs": []
    },
    {
      "cell_type": "code",
      "metadata": {
        "id": "uYZvTUQA3QYC"
      },
      "source": [
        "x_train, x_test, y_train, y_test = train_test_split(features, labels, test_size=0.11, shuffle=True)"
      ],
      "execution_count": null,
      "outputs": []
    },
    {
      "cell_type": "code",
      "metadata": {
        "colab": {
          "base_uri": "https://localhost:8080/"
        },
        "id": "qiHnL3Sj9BLi",
        "outputId": "c6637196-57c9-4015-b2d1-7f5402ed987b"
      },
      "source": [
        "print(len(x_test))"
      ],
      "execution_count": null,
      "outputs": [
        {
          "output_type": "stream",
          "text": [
            "938\n"
          ],
          "name": "stdout"
        }
      ]
    },
    {
      "cell_type": "code",
      "metadata": {
        "id": "yicU3Xn33QZz"
      },
      "source": [
        "rbf = SVC(kernel='rbf').fit(x_train, y_train)"
      ],
      "execution_count": null,
      "outputs": []
    },
    {
      "cell_type": "code",
      "metadata": {
        "id": "0QIUDXKQ3Qco"
      },
      "source": [
        "rbf_pred = rbf.predict(x_test)"
      ],
      "execution_count": null,
      "outputs": []
    },
    {
      "cell_type": "code",
      "metadata": {
        "id": "_Sa_Pk5XRtvI"
      },
      "source": [
        "lin = SVC(kernel='linear').fit(x_train, y_train)"
      ],
      "execution_count": null,
      "outputs": []
    },
    {
      "cell_type": "code",
      "metadata": {
        "id": "mAHz7ZQeRwx1"
      },
      "source": [
        "lin_pred = lin.predict(x_test)"
      ],
      "execution_count": null,
      "outputs": []
    },
    {
      "cell_type": "code",
      "metadata": {
        "id": "p43ojSg5srWw"
      },
      "source": [
        "poly = SVC(kernel = 'poly')"
      ],
      "execution_count": null,
      "outputs": []
    },
    {
      "cell_type": "code",
      "metadata": {
        "id": "CUDcgkrd2yoR"
      },
      "source": [
        "model= poly.fit(x_train, y_train)"
      ],
      "execution_count": null,
      "outputs": []
    },
    {
      "cell_type": "code",
      "metadata": {
        "id": "fGfUD5Sisrdi"
      },
      "source": [
        "poly_pred = poly.predict(x_test)"
      ],
      "execution_count": null,
      "outputs": []
    },
    {
      "cell_type": "code",
      "metadata": {
        "colab": {
          "base_uri": "https://localhost:8080/"
        },
        "id": "U8a3_s5gEHaz",
        "outputId": "fa2522e3-1a29-44d1-dd76-3aba4393dc84"
      },
      "source": [
        "rbf_accuracy = accuracy_score(y_test, rbf_pred)\n",
        "rbf_f1 = f1_score(y_test, rbf_pred, average='weighted')\n",
        "rbf_precision = precision_score(y_test, rbf_pred, average= 'weighted')\n",
        "rbf_recall = recall_score(y_test, rbf_pred, average= 'weighted')\n",
        "print('Accuracy (RBF Kernel): ', \"%.2f\" % (rbf_accuracy*100))\n",
        "print('F1 (RBF Kernel): ', \"%.2f\" % (rbf_f1*100))\n",
        "print('Precision: ', \"%.2f\" % (rbf_precision*100))\n",
        "print('Recall: ', \"%.2f\" % (rbf_recall*100))"
      ],
      "execution_count": null,
      "outputs": [
        {
          "output_type": "stream",
          "text": [
            "Accuracy (RBF Kernel):  95.10\n",
            "F1 (RBF Kernel):  95.11\n",
            "Precision:  95.18\n",
            "Recall:  95.10\n"
          ],
          "name": "stdout"
        }
      ]
    },
    {
      "cell_type": "code",
      "metadata": {
        "colab": {
          "base_uri": "https://localhost:8080/"
        },
        "id": "UCO4ZAp7MmEE",
        "outputId": "f0cafebc-4a42-4b70-ed2f-925278822cca"
      },
      "source": [
        "poly_accuracy = accuracy_score(y_test, poly_pred)\n",
        "poly_f1 = f1_score(y_test, poly_pred, average='weighted')\n",
        "poly_precision = precision_score(y_test, poly_pred, average= 'weighted')\n",
        "poly_recall = recall_score(y_test, poly_pred, average= 'weighted')\n",
        "print('Accuracy (RBF Kernel): ', \"%.2f\" % (poly_accuracy*100))\n",
        "print('F1 (RBF Kernel): ', \"%.2f\" % (poly_f1*100))\n",
        "print('Precision: ', \"%.2f\" % (poly_precision*100))\n",
        "print('Recall: ', \"%.2f\" % (poly_recall*100))"
      ],
      "execution_count": null,
      "outputs": [
        {
          "output_type": "stream",
          "text": [
            "Accuracy (RBF Kernel):  98.93\n",
            "F1 (RBF Kernel):  98.93\n",
            "Precision:  98.94\n",
            "Recall:  98.93\n"
          ],
          "name": "stdout"
        }
      ]
    },
    {
      "cell_type": "code",
      "metadata": {
        "id": "nhaZGZQqM5Sf"
      },
      "source": [
        ""
      ],
      "execution_count": null,
      "outputs": []
    },
    {
      "cell_type": "code",
      "metadata": {
        "colab": {
          "base_uri": "https://localhost:8080/"
        },
        "id": "22XGXkEzXRDY",
        "outputId": "5b452cec-5981-41ae-db4e-2a690bb490ef"
      },
      "source": [
        "lin_accuracy = accuracy_score(y_test, lin_pred)\n",
        "lin_f1 = f1_score(y_test, lin_pred, average='weighted')\n",
        "lin_precision = precision_score(y_test, lin_pred, average= 'weighted')\n",
        "lin_recall = recall_score(y_test, lin_pred, average= 'weighted')\n",
        "print('Accuracy (RBF Kernel): ', \"%.2f\" % (lin_accuracy*100))\n",
        "print('F1 (RBF Kernel): ', \"%.2f\" % (lin_f1*100))\n",
        "print('Precision: ', \"%.2f\" % (lin_precision*100))\n",
        "print('Recall: ', \"%.2f\" % (lin_recall*100))"
      ],
      "execution_count": null,
      "outputs": [
        {
          "output_type": "stream",
          "text": [
            "Accuracy (Linear Kernel):  93.14\n",
            "F1 (Linear Kernel):  93.12\n"
          ],
          "name": "stdout"
        }
      ]
    },
    {
      "cell_type": "code",
      "metadata": {
        "colab": {
          "base_uri": "https://localhost:8080/"
        },
        "id": "FXRokm-lXUZl",
        "outputId": "fc790838-cab1-4f06-8637-f93ee89e015c"
      },
      "source": [
        "cm = confusion_matrix(y_test, lin_pred) \n",
        "\n",
        "print(cm)"
      ],
      "execution_count": null,
      "outputs": [
        {
          "output_type": "stream",
          "text": [
            "[[161   0   0   0   1   2   2   1   1   2]\n",
            " [  0 184   6   2   0   0   2   0   0   0]\n",
            " [  0   6 146   1   4   0   2   1   2   0]\n",
            " [  0   9   7 152   1   0   0   0   0   0]\n",
            " [  0   2   2   2 158   3   0   2   2   0]\n",
            " [  2   2   0   0   0 183   0   0   2   0]\n",
            " [  0   0   0   0   0   0 158   2   0   0]\n",
            " [  0   0   6   2   7   0   0 136   7   0]\n",
            " [  0   2   0   2   0   3   4  10 150   0]\n",
            " [  1   0   0   0   0   0   0   0   0 160]]\n"
          ],
          "name": "stdout"
        }
      ]
    },
    {
      "cell_type": "code",
      "metadata": {
        "colab": {
          "base_uri": "https://localhost:8080/"
        },
        "id": "RqATfH5wEHl6",
        "outputId": "68aa2222-e374-4324-fc75-c03e5155c024"
      },
      "source": [
        "cm = confusion_matrix(y_test, rbf_pred) \n",
        "\n",
        "print(cm)"
      ],
      "execution_count": null,
      "outputs": [
        {
          "output_type": "stream",
          "text": [
            "[[166   0   0   0   4   0   0   0   0   0]\n",
            " [  0 188   5   0   0   0   0   1   0   0]\n",
            " [  0   3 142  14   3   0   0   0   0   0]\n",
            " [  0   2  10 148   9   0   0   0   0   0]\n",
            " [  1   4   3  12 148   2   0   0   1   0]\n",
            " [  2   3   0   2   0 181   0   0   1   0]\n",
            " [  2   1   0   0   0   0 155   2   0   0]\n",
            " [  0   0   2   1   0   0   0 148   7   0]\n",
            " [  0   6   0   2   0   6   2   1 154   0]\n",
            " [  1   0   0   0   0   0   1   0   1 158]]\n"
          ],
          "name": "stdout"
        }
      ]
    },
    {
      "cell_type": "code",
      "metadata": {
        "colab": {
          "base_uri": "https://localhost:8080/",
          "height": 604
        },
        "id": "Ir5pDT_UEHpG",
        "outputId": "b3023e62-bf0d-46e6-a004-41d9e377b875"
      },
      "source": [
        "from sklearn.metrics import confusion_matrix\n",
        "import pandas as pd\n",
        "import seaborn as sn\n",
        "import matplotlib.pyplot as plt\n",
        "%matplotlib inline\n",
        "import numpy as np\n",
        "\n",
        "\n",
        "data = confusion_matrix(y_test, poly_pred)\n",
        "df_cm = pd.DataFrame(data, columns=np.unique(y_test), index = np.unique(y_test))\n",
        "df_cm.index.name = 'Actual'\n",
        "df_cm.columns.name = 'Predicted'\n",
        "plt.figure(figsize = (10,9))\n",
        "plt.title('Confusion Matrix (HOG-SVM(Polynomial))')\n",
        "sn.set(font_scale=1.4)#for label size\n",
        "sn.heatmap(df_cm, cmap=\"Blues\", annot=True, fmt= 'g' ,annot_kws={\"size\": 12})# font size"
      ],
      "execution_count": null,
      "outputs": [
        {
          "output_type": "execute_result",
          "data": {
            "text/plain": [
              "<matplotlib.axes._subplots.AxesSubplot at 0x7f251b4ac890>"
            ]
          },
          "metadata": {
            "tags": []
          },
          "execution_count": 22
        },
        {
          "output_type": "display_data",
          "data": {
            "image/png": "[encoded data removed]",
            "text/plain": [
              "<Figure size 720x648 with 2 Axes>"
            ]
          },
          "metadata": {
            "tags": [],
            "needs_background": "light"
          }
        }
      ]
    },
    {
      "cell_type": "code",
      "metadata": {
        "id": "0gtuE5h4EHtM"
      },
      "source": [
        ""
      ],
      "execution_count": null,
      "outputs": []
    },
    {
      "cell_type": "code",
      "metadata": {
        "id": "L8qqXAs6EH2s"
      },
      "source": [
        ""
      ],
      "execution_count": null,
      "outputs": []
    },
    {
      "cell_type": "code",
      "metadata": {
        "id": "EXgqT-P_EH55"
      },
      "source": [
        ""
      ],
      "execution_count": null,
      "outputs": []
    }
  ]
}
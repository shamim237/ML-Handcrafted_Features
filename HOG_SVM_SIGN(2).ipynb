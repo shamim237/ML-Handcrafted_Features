{
  "nbformat": 4,
  "nbformat_minor": 0,
  "metadata": {
    "accelerator": "GPU",
    "colab": {
      "name": "HOG_SVM_SIGN(2).ipynb",
      "provenance": [],
      "collapsed_sections": [],
      "mount_file_id": "1sCbAsqrtFGWUWV8eQ-TAvyvdo4N9gBJt",
      "authorship_tag": "ABX9TyMWaLR06BSEaBT3hf6B10ee",
      "include_colab_link": true
    },
    "kernelspec": {
      "display_name": "Python 3",
      "name": "python3"
    }
  },
  "cells": [
    {
      "cell_type": "markdown",
      "metadata": {
        "id": "view-in-github",
        "colab_type": "text"
      },
      "source": [
        "<a href=\"https://colab.research.google.com/github/shamim237/ML-Handcrafted_Features/blob/main/HOG_SVM_SIGN(2).ipynb\" target=\"_parent\"><img src=\"https://colab.research.google.com/assets/colab-badge.svg\" alt=\"Open In Colab\"/></a>"
      ]
    },
    {
      "cell_type": "code",
      "metadata": {
        "id": "B_DaJJZDmmiK"
      },
      "source": [
        "import os \n",
        "import numpy as np\n",
        "import matplotlib.pyplot as plt\n",
        "import cv2\n",
        "import pickle\n",
        "from skimage.feature import hog\n",
        "import random\n",
        "from sklearn.model_selection import train_test_split\n",
        "from sklearn.svm import SVC\n",
        "from sklearn.metrics import accuracy_score, precision_score, recall_score, f1_score\n",
        "from sklearn.metrics import f1_score\n",
        "from sklearn.metrics import confusion_matrix"
      ],
      "execution_count": null,
      "outputs": []
    },
    {
      "cell_type": "code",
      "metadata": {
        "id": "Qzu11MTNm1Wt"
      },
      "source": [
        "# img_dir = '/content/drive/MyDrive/digit_dataset/'"
      ],
      "execution_count": null,
      "outputs": []
    },
    {
      "cell_type": "code",
      "metadata": {
        "id": "Se5h00Tbnou0"
      },
      "source": [
        "# categories = ['0', '1', '2', '3', '4', '5', '6', '7', '8', '9']"
      ],
      "execution_count": null,
      "outputs": []
    },
    {
      "cell_type": "code",
      "metadata": {
        "id": "ZbKJVIh0np3S"
      },
      "source": [
        "# data = []\n",
        "\n",
        "# for category in categories:\n",
        "#   path = os.path.join(img_dir, category)\n",
        "#   label = categories.index(category)\n",
        "\n",
        "#   for img in os.listdir(path):\n",
        "#     img_data = cv2.imread(img_path)\n",
        "#     resized_img = cv2.resize(img_data, (128, 128))\n",
        "#     fd, hog_image = hog(resized_img, orientations=15, pixels_per_cell=(8, 8),                \t\n",
        "#                           cells_per_block=(4, 4), visualize=True, multichannel= True)\n",
        "#     image = np.array(hog_image).flatten()\n",
        "#     data.append([image, label])"
      ],
      "execution_count": null,
      "outputs": []
    },
    {
      "cell_type": "code",
      "metadata": {
        "id": "27m8_v1Mwnjw"
      },
      "source": [
        "#print(len(data))"
      ],
      "execution_count": null,
      "outputs": []
    },
    {
      "cell_type": "code",
      "metadata": {
        "id": "vJqaCkONwrdH"
      },
      "source": [
        "#pick_in = open('/content/drive/MyDrive/Colab Notebooks/data_hog_sign(2).pickle', 'wb')\n",
        "#pickle.dump(data, pick_in)\n",
        "#pick_in.close()\n"
      ],
      "execution_count": null,
      "outputs": []
    },
    {
      "cell_type": "code",
      "metadata": {
        "id": "XBH8KFGlw0jk"
      },
      "source": [
        "pick_in = open('/content/drive/MyDrive/Colab Notebooks/data_hog_sign(2).pickle', 'rb')\n",
        "data = pickle.load(pick_in)\n",
        "pick_in.close()"
      ],
      "execution_count": null,
      "outputs": []
    },
    {
      "cell_type": "code",
      "metadata": {
        "id": "XuV_WPVmxdvO"
      },
      "source": [
        "random.shuffle(data)\n",
        "features = []\n",
        "labels = []"
      ],
      "execution_count": null,
      "outputs": []
    },
    {
      "cell_type": "code",
      "metadata": {
        "id": "xWcwtAkExhlN"
      },
      "source": [
        "for feature,label in data:\n",
        "    features.append(feature)\n",
        "    labels.append(label)"
      ],
      "execution_count": null,
      "outputs": []
    },
    {
      "cell_type": "code",
      "metadata": {
        "id": "R_oX4yfPxjv2"
      },
      "source": [
        "x_train, x_test, y_train, y_test = train_test_split(features, labels, test_size=0.11, shuffle=True)"
      ],
      "execution_count": null,
      "outputs": []
    },
    {
      "cell_type": "code",
      "metadata": {
        "id": "IBPcQP0nxpOr"
      },
      "source": [
        "lin = SVC(kernel='linear', C=10).fit(x_train, y_train)\n"
      ],
      "execution_count": null,
      "outputs": []
    },
    {
      "cell_type": "code",
      "metadata": {
        "id": "6uUYpoHINoRg"
      },
      "source": [
        "poly = SVC(kernel='poly', degree=3, C=3, probability= True).fit(x_train, y_train)"
      ],
      "execution_count": null,
      "outputs": []
    },
    {
      "cell_type": "code",
      "metadata": {
        "id": "e91hEq2TFOwi"
      },
      "source": [
        "rbf = SVC(kernel='rbf').fit(x_train, y_train)"
      ],
      "execution_count": null,
      "outputs": []
    },
    {
      "cell_type": "code",
      "metadata": {
        "id": "gZxji0w3NsOZ"
      },
      "source": [
        "poly_pred = poly.predict(x_test)"
      ],
      "execution_count": null,
      "outputs": []
    },
    {
      "cell_type": "code",
      "metadata": {
        "id": "sGSU2vfkNtec"
      },
      "source": [
        "lin_pred = lin.predict(x_test)"
      ],
      "execution_count": null,
      "outputs": []
    },
    {
      "cell_type": "code",
      "metadata": {
        "id": "vDDLeozlx2vg"
      },
      "source": [
        "rbf_pred = rbf.predict(x_test)"
      ],
      "execution_count": null,
      "outputs": []
    },
    {
      "cell_type": "code",
      "metadata": {
        "colab": {
          "base_uri": "https://localhost:8080/"
        },
        "id": "xQNUGi3Ix7iI",
        "outputId": "c17671db-c369-4225-c176-b2e6d31e4981"
      },
      "source": [
        "poly_accuracy = accuracy_score(y_test, poly_pred)\n",
        "poly_f1 = f1_score(y_test, poly_pred, average='weighted')\n",
        "print('Accuracy (Polynomial Kernel): ', \"%.2f\" % (poly_accuracy*100))\n",
        "print('F1 (Polynomial Kernel): ', \"%.2f\" % (poly_f1*100))\n",
        "poly_precision = precision_score(y_test, poly_pred, average= 'weighted')\n",
        "poly_recall = recall_score(y_test, poly_pred, average= 'weighted')\n",
        "print('Precision (SVM-poly): ', \"%.2f\" % (poly_precision*100))\n",
        "print('Recall(SVM-poly): ', \"%.2f\" % (poly_recall*100))\n"
      ],
      "execution_count": null,
      "outputs": [
        {
          "output_type": "stream",
          "text": [
            "Accuracy (Polynomial Kernel):  98.72\n",
            "F1 (Polynomial Kernel):  98.72\n",
            "Precision (SVM-poly):  98.75\n",
            "Recall(SVM-poly):  98.72\n"
          ],
          "name": "stdout"
        }
      ]
    },
    {
      "cell_type": "code",
      "metadata": {
        "id": "ZXRUCVTpx_lg"
      },
      "source": [
        "# lin_accuracy = accuracy_score(y_test, lin_pred)\n",
        "# lin_f1 = f1_score(y_test, lin_pred, average='weighted')\n",
        "# print('Accuracy (Linear Kernel): ', \"%.2f\" % (lin_accuracy*100))\n",
        "# print('F1 (Linear Kernel): ', \"%.2f\" % (lin_f1*100))\n",
        "# lin_precision = precision_score(y_test, lin_pred, average= 'weighted')\n",
        "# lin_recall = recall_score(y_test, lin_pred, average= 'weighted')\n",
        "# print('Accuracy (Random Forest): ', \"%.2f\" % (lin_accuracy*100))\n",
        "# print('F1 (Random Forest): ', \"%.2f\" % (lin_f1*100))\n",
        "# print('Precision (k-NN): ', \"%.2f\" % (lin_precision*100))\n",
        "# print('Recall(k-NN): ', \"%.2f\" % (lin_recall*100))"
      ],
      "execution_count": null,
      "outputs": []
    },
    {
      "cell_type": "code",
      "metadata": {
        "colab": {
          "base_uri": "https://localhost:8080/"
        },
        "id": "tCAYUfF-yLTP",
        "outputId": "e367fb64-5028-4e5c-c9e1-6948d1b6ab07"
      },
      "source": [
        "rbf_accuracy = accuracy_score(y_test, rbf_pred)\n",
        "rbf_f1 = f1_score(y_test, rbf_pred, average='weighted')\n",
        "print('Accuracy (RBF Kernel): ', \"%.2f\" % (rbf_accuracy*100))\n",
        "print('F1 (RBF Kernel): ', \"%.2f\" % (rbf_f1*100))\n",
        "rbf_precision = precision_score(y_test, rbf_pred, average= 'weighted')\n",
        "rbf_recall = recall_score(y_test, rbf_pred, average= 'weighted')\n",
        "print('Precision (SVM-RBF): ', \"%.2f\" % (rbf_precision*100))\n",
        "print('Recall(SVM-RBF): ', \"%.2f\" % (rbf_recall*100))"
      ],
      "execution_count": null,
      "outputs": [
        {
          "output_type": "stream",
          "text": [
            "Accuracy (RBF Kernel):  97.12\n",
            "F1 (RBF Kernel):  97.13\n",
            "Precision (SVM-RBF):  97.16\n",
            "Recall(SVM-RBF):  97.12\n"
          ],
          "name": "stdout"
        }
      ]
    },
    {
      "cell_type": "code",
      "metadata": {
        "colab": {
          "base_uri": "https://localhost:8080/"
        },
        "id": "fm5cD-O6TBxn",
        "outputId": "d11b2022-09a8-46c3-f100-937f682f5035"
      },
      "source": [
        "lin_accuracy = accuracy_score(y_test, lin_pred)\n",
        "lin_f1 = f1_score(y_test, lin_pred, average='weighted')\n",
        "print('Accuracy (Linear Kernel): ', \"%.2f\" % (lin_accuracy*100))\n",
        "print('F1 (Linear Kernel): ', \"%.2f\" % (lin_f1*100))\n",
        "lin_precision = precision_score(y_test, lin_pred, average= 'weighted')\n",
        "lin_recall = recall_score(y_test, lin_pred, average= 'weighted')\n",
        "print('Precision (Linear): ', \"%.2f\" % (lin_precision*100))\n",
        "print('Recall(Linear): ', \"%.2f\" % (lin_recall*100))"
      ],
      "execution_count": null,
      "outputs": [
        {
          "output_type": "stream",
          "text": [
            "Accuracy (Linear Kernel):  98.29\n",
            "F1 (Linear Kernel):  98.31\n",
            "Precision (Linear):  98.37\n",
            "Recall(Linear):  98.29\n"
          ],
          "name": "stdout"
        }
      ]
    },
    {
      "cell_type": "code",
      "metadata": {
        "id": "lgkFG-iHwmDM"
      },
      "source": [
        ""
      ],
      "execution_count": null,
      "outputs": []
    },
    {
      "cell_type": "code",
      "metadata": {
        "id": "PtYKGgud0Va6"
      },
      "source": [
        "# cm = confusion_matrix(y_test, lin_pred) \n",
        "\n",
        "# print(cm)"
      ],
      "execution_count": null,
      "outputs": []
    },
    {
      "cell_type": "code",
      "metadata": {
        "id": "MvECYpkv564g"
      },
      "source": [
        "# import seaborn as sn\n",
        "# import pandas as pd\n",
        "# import matplotlib.pyplot as plt\n",
        "\n",
        "# array = [[ 94,   0,   0,   0 ,  0  , 0  , 1  , 0  , 0,   0],\n",
        "#  [  0, 104,   2,   2,   0,   0 ,  0  , 0 ,  0 ,  0],\n",
        "#  [  0 ,  1 , 81  , 0  , 0  , 0 ,  0 ,  0 ,  0,   0],\n",
        "#  [  0 ,  2  , 1 , 76 ,  0  , 0  , 0 ,  0,2 ,  0],\n",
        "#  [  0  , 0  , 0 ,  5  ,87 ,  0 ,  0,   0  , 0 ,  0],\n",
        "#  [  0  , 0 ,  0 ,  0 ,  2,  99 ,  0 ,  0 ,  0 ,  0],\n",
        "#  [  0 ,  0  , 0 ,  0  , 0 ,  0 ,109,   0 ,  0 ,  0],\n",
        "#  [  0  , 0 ,  0 ,  0  , 0 ,  0  , 0 , 84 ,  2 ,  1],\n",
        "#  [  0 ,  0, 0,   0,   0 ,  0,   0 ,  3 , 90,   0],\n",
        "#  [  1  , 0  , 0 ,  0 ,  0 ,  0  , 0  , 0  , 0 , 89]]\n",
        "\n",
        "# df_cm = pd.DataFrame(array, range(10), range(10))\n",
        "# plt.figure(figsize=(10,7))\n",
        "# plt.title('Confusion Matrix(HOG-RF)')\n",
        "# sn.set(font_scale=1.3) # for label size\n",
        "# sn.heatmap(df_cm, annot=True, annot_kws={\"size\": 10}) # font size\n",
        "\n",
        "# plt.show()"
      ],
      "execution_count": null,
      "outputs": []
    },
    {
      "cell_type": "code",
      "metadata": {
        "colab": {
          "base_uri": "https://localhost:8080/",
          "height": 607
        },
        "id": "xBUWXNWK6qyQ",
        "outputId": "b1c256a4-bdb9-4657-c3ac-38664d190ac3"
      },
      "source": [
        "from sklearn.metrics import confusion_matrix\n",
        "import pandas as pd\n",
        "import seaborn as sn\n",
        "import matplotlib.pyplot as plt\n",
        "%matplotlib inline\n",
        "import numpy as np\n",
        "\n",
        "\n",
        "data = confusion_matrix(y_test, poly_pred)\n",
        "df_cm = pd.DataFrame(data, columns=np.unique(y_test), index = np.unique(y_test))\n",
        "df_cm.index.name = 'Actual'\n",
        "df_cm.columns.name = 'Predicted'\n",
        "plt.figure(figsize = (10,9))\n",
        "plt.title('Confusion Matrix (HOG-SVM(Polynomial))')\n",
        "sn.set(font_scale=1.4)#for label size\n",
        "sn.heatmap(df_cm, cmap=\"Blues\", annot=True, annot_kws={\"size\": 12})# font size"
      ],
      "execution_count": null,
      "outputs": [
        {
          "output_type": "execute_result",
          "data": {
            "text/plain": [
              "<matplotlib.axes._subplots.AxesSubplot at 0x7f35e32beb90>"
            ]
          },
          "metadata": {
            "tags": []
          },
          "execution_count": 126
        },
        {
          "output_type": "display_data",
          "data": {
            "image/png": "[encoded data removed]",
            "text/plain": [
              "<Figure size 720x648 with 2 Axes>"
            ]
          },
          "metadata": {
            "tags": [],
            "needs_background": "light"
          }
        }
      ]
    },
    {
      "cell_type": "code",
      "metadata": {
        "id": "Qs5VMK2t51yE"
      },
      "source": [
        ""
      ],
      "execution_count": null,
      "outputs": []
    },
    {
      "cell_type": "code",
      "metadata": {
        "id": "PXXij7QDyvKK"
      },
      "source": [
        "pred_prob2 = poly.predict_proba(x_test)"
      ],
      "execution_count": null,
      "outputs": []
    },
    {
      "cell_type": "code",
      "metadata": {
        "colab": {
          "base_uri": "https://localhost:8080/"
        },
        "id": "xS0oWwb9yvPY",
        "outputId": "0b7a8312-119e-4095-ccdd-e9fa91e1a491"
      },
      "source": [
        "n_classes= 10\n",
        "from sklearn.metrics import roc_curve\n",
        "\n",
        "fpr2, tpr2, thresh2 = roc_curve(y_test, pred_prob2[:,1], pos_label=1)\n",
        "random_probs = [0 for i in range(len(y_test))]\n",
        "p_fpr, p_tpr, _ = roc_curve(y_test, random_probs, pos_label=1)\n",
        "\n",
        "from sklearn.metrics import roc_auc_score\n",
        "\n",
        "# auc scores\n",
        "#auc_score1 = roc_auc_score(y_test, pred_prob1[:,1])\n",
        "auc_score2 = roc_auc_score(y_test, pred_prob2, multi_class=\"ovo\")\n",
        "\n",
        "print(auc_score2)"
      ],
      "execution_count": null,
      "outputs": [
        {
          "output_type": "stream",
          "text": [
            "0.9999750148994344\n"
          ],
          "name": "stdout"
        }
      ]
    },
    {
      "cell_type": "code",
      "metadata": {
        "colab": {
          "base_uri": "https://localhost:8080/",
          "height": 376
        },
        "id": "EBI3fJfCyvTI",
        "outputId": "6dd807ee-1ae2-4b38-a6eb-422393a8e161"
      },
      "source": [
        "import matplotlib.pyplot as plt\n",
        "plt.style.use('seaborn')\n",
        "\n",
        "# plot roc curves\n",
        "#plt.plot(fpr1, tpr1, linestyle='--',color='orange', label='Logistic Regression')\n",
        "plt.plot(fpr2, tpr2, linestyle='--',color='green', label='KNN')\n",
        "plt.plot(p_fpr, p_tpr, linestyle='--', color='blue')\n",
        "# title\n",
        "plt.title('ROC curve')\n",
        "# x label\n",
        "plt.xlabel('False Positive Rate')\n",
        "# y label\n",
        "plt.ylabel('True Positive rate')\n",
        "\n",
        "plt.legend(loc='best')\n",
        "plt.savefig('ROC',dpi=300)\n",
        "plt.show()"
      ],
      "execution_count": null,
      "outputs": [
        {
          "output_type": "display_data",
          "data": {
            "image/png": "[encoded data removed]",
            "text/plain": [
              "<Figure size 576x396 with 1 Axes>"
            ]
          },
          "metadata": {
            "tags": []
          }
        }
      ]
    },
    {
      "cell_type": "code",
      "metadata": {
        "colab": {
          "base_uri": "https://localhost:8080/",
          "height": 376
        },
        "id": "HD42VIcEyvWb",
        "outputId": "0e817f69-276b-4e88-b9f4-d8fc24a5f036"
      },
      "source": [
        "fpr = {}\n",
        "tpr = {}\n",
        "thresh ={}\n",
        "\n",
        "n_class = 10\n",
        "\n",
        "for i in range(n_class):    \n",
        "    fpr[i], tpr[i], thresh[i] = roc_curve(y_test, pred_prob2[:,i], pos_label=i)\n",
        "    \n",
        "# plotting    \n",
        "plt.plot(fpr[0], tpr[0], linestyle='--',color='orange', label='Class 0 vs Rest')\n",
        "plt.plot(fpr[1], tpr[1], linestyle='--',color='green', label='Class 1 vs Rest')\n",
        "plt.plot(fpr[2], tpr[2], linestyle='--',color='red', label='Class 2 vs Rest')\n",
        "plt.plot(fpr[3], tpr[3], linestyle='--',color='yellow', label='Class 3 vs Rest')\n",
        "plt.plot(fpr[4], tpr[4], linestyle='--',color='purple', label='Class 4 vs Rest')\n",
        "plt.plot(fpr[5], tpr[5], linestyle='--',color='lime', label='Class 5 vs Rest')\n",
        "plt.plot(fpr[6], tpr[6], linestyle='--',color='brown', label='Class 6 vs Rest')\n",
        "plt.plot(fpr[7], tpr[7], linestyle='--',color='cyan', label='Class 7 vs Rest')\n",
        "plt.plot(fpr[8], tpr[8], linestyle='--',color='maroon', label='Class 8 vs Rest')\n",
        "plt.plot(fpr[9], tpr[9], linestyle='--',color='blue', label='Class 9 vs Rest')\n",
        "plt.title('Multiclass ROC curve')\n",
        "plt.xlabel('False Positive Rate')\n",
        "plt.ylabel('True Positive rate')\n",
        "plt.legend(loc='best')\n",
        "plt.savefig('Multiclass ROC',dpi=200)"
      ],
      "execution_count": null,
      "outputs": [
        {
          "output_type": "display_data",
          "data": {
            "image/png": "[encoded data removed]",
            "text/plain": [
              "<Figure size 576x396 with 1 Axes>"
            ]
          },
          "metadata": {
            "tags": []
          }
        }
      ]
    },
    {
      "cell_type": "code",
      "metadata": {
        "colab": {
          "base_uri": "https://localhost:8080/",
          "height": 376
        },
        "id": "HHHn47QsyvZM",
        "outputId": "6f4c887f-67b6-4663-b2dc-e0ef2a181a68"
      },
      "source": [
        "plt.figure(2)\n",
        "plt.xlim(0, .01)\n",
        "plt.ylim(0.65, 1.01)\n",
        "plt.plot(fpr[0], tpr[0], linestyle='--',color='orange', label='Class 0 vs Rest')\n",
        "plt.plot(fpr[1], tpr[1], linestyle='--',color='green', label='Class 1 vs Rest')\n",
        "plt.plot(fpr[2], tpr[2], linestyle='--',color='red', label='Class 2 vs Rest')\n",
        "plt.plot(fpr[3], tpr[3], linestyle='--',color='yellow', label='Class 3 vs Rest')\n",
        "plt.plot(fpr[4], tpr[4], linestyle='--',color='purple', label='Class 4 vs Rest')\n",
        "plt.plot(fpr[5], tpr[5], linestyle='--',color='lime', label='Class 5 vs Rest')\n",
        "plt.plot(fpr[6], tpr[6], linestyle='--',color='brown', label='Class 6 vs Rest')\n",
        "plt.plot(fpr[7], tpr[7], linestyle='--',color='cyan', label='Class 7 vs Rest')\n",
        "plt.plot(fpr[8], tpr[8], linestyle='--',color='maroon', label='Class 8 vs Rest')\n",
        "plt.plot(fpr[9], tpr[9], linestyle='--',color='blue', label='Class 9 vs Rest')\n",
        "plt.xlabel('False positive rate')\n",
        "plt.ylabel('True positive rate')\n",
        "plt.title('ROC curve (HOG-SVM(Linear))')\n",
        "plt.legend(loc='best')\n",
        "plt.show()"
      ],
      "execution_count": null,
      "outputs": [
        {
          "output_type": "display_data",
          "data": {
            "image/png": "[encoded data removed]",
            "text/plain": [
              "<Figure size 576x396 with 1 Axes>"
            ]
          },
          "metadata": {
            "tags": []
          }
        }
      ]
    },
    {
      "cell_type": "code",
      "metadata": {
        "id": "N1fLdb6lyvcL"
      },
      "source": [
        ""
      ],
      "execution_count": null,
      "outputs": []
    },
    {
      "cell_type": "code",
      "metadata": {
        "id": "J3LMEeyWyvhl"
      },
      "source": [
        ""
      ],
      "execution_count": null,
      "outputs": []
    },
    {
      "cell_type": "code",
      "metadata": {
        "id": "0ppkuYCqyvly"
      },
      "source": [
        ""
      ],
      "execution_count": null,
      "outputs": []
    },
    {
      "cell_type": "code",
      "metadata": {
        "id": "ihF9cRmon3bd"
      },
      "source": [
        "# cm = confusion_matrix(y_test, poly_pred) \n",
        "\n",
        "# print(cm)"
      ],
      "execution_count": null,
      "outputs": []
    },
    {
      "cell_type": "code",
      "metadata": {
        "id": "AYGetDQdwnM0"
      },
      "source": [
        "# cm = confusion_matrix(y_test, rbf_pred) \n",
        "\n",
        "# print(cm)"
      ],
      "execution_count": null,
      "outputs": []
    },
    {
      "cell_type": "code",
      "metadata": {
        "id": "HAyE4bZwyi-3"
      },
      "source": [
        "# categories = ['0', '1', '2', '3', '4', '5', '6', '7', '8', '9']\n",
        "\n",
        "# print('Prediction is: ', categories[rbf_pred[104]])\n",
        "\n",
        "# my_pred = x_test[104].reshape(128, 64)\n",
        "# plt.imshow(my_pred, cmap='binary_r')\n",
        "# plt.show()"
      ],
      "execution_count": null,
      "outputs": []
    },
    {
      "cell_type": "code",
      "metadata": {
        "id": "IHBpVjS-9Ymo"
      },
      "source": [
        "# test_sample = x_test[6].reshape(1, 128*64)\n",
        "\n",
        "# test_sample.shape"
      ],
      "execution_count": null,
      "outputs": []
    },
    {
      "cell_type": "code",
      "metadata": {
        "id": "1bY2D46l7JBo"
      },
      "source": [
        "# pred = poly.predict(test_sample)\n",
        "# pred"
      ],
      "execution_count": null,
      "outputs": []
    },
    {
      "cell_type": "code",
      "metadata": {
        "id": "qYXUq4pc-Wrf"
      },
      "source": [
        "# img_data = cv2.imread('/content/8.jpg', 0)\n",
        "\n",
        "# ret,thresh1 = cv2.threshold(img_data,160,255,cv2.THRESH_BINARY)\n",
        "\n",
        "# resized_img = cv2.resize(thresh1, (128, 64))\n",
        "# fd, hog_image = hog(resized_img, orientations=9, pixels_per_cell=(8, 8),                \t\n",
        "#                           cells_per_block=(2, 2), visualize=True, multichannel= False)\n",
        "# image = np.array(hog_image).flatten()\n",
        "# plt.imshow(hog_image)"
      ],
      "execution_count": null,
      "outputs": []
    },
    {
      "cell_type": "code",
      "metadata": {
        "id": "Y89GQuVQ-Wyf"
      },
      "source": [
        "# test_sample = image.reshape(1, 128*64)\n",
        "\n",
        "# pred = rbf.predict(test_sample)\n",
        "# pred"
      ],
      "execution_count": null,
      "outputs": []
    }
  ]
}